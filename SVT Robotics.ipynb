{
 "cells": [
  {
   "cell_type": "code",
   "execution_count": 1,
   "metadata": {},
   "outputs": [],
   "source": [
    "from urllib.request import urlopen\n",
    "import json\n",
    "import math"
   ]
  },
  {
   "cell_type": "code",
   "execution_count": 2,
   "metadata": {},
   "outputs": [],
   "source": [
    "def getTransportRobot(loadId: str, x: float, y: float) -> dict:\n",
    "    \n",
    "    # import data from the endpoint.\n",
    "    url = \"https://60c8ed887dafc90017ffbd56.mockapi.io/robots\"\n",
    "    response = urlopen(url)\n",
    "    robot_info = json.loads(response.read())\n",
    "    # print(robot_info)\n",
    "    \n",
    "    # variable nearRobots: to record the robots within 10 distance units of the load\n",
    "    # variable minDistRobot: to record the robot with the smallest distance\n",
    "    nearRobots = list()\n",
    "    minDistRobot = robot_info[0]\n",
    "    minDist = math.pow(math.pow(robot_info[0]['y'] - y, 2) + math.pow(robot_info[0]['x'] - x, 2), 0.5)\n",
    "    \n",
    "    for i, robot in enumerate(robot_info):\n",
    "        dist = math.pow(math.pow(robot['y'] - y, 2) + math.pow(robot['x'] - x, 2), 0.5)\n",
    "        if dist <= 10:\n",
    "            nearRobots.append(robot)\n",
    "        if minDist > dist:\n",
    "            minDistRobot = robot\n",
    "            minDist = dist\n",
    "\n",
    "    # if no robots within 10 distance units of the load, just return the one with the smallest distance\n",
    "    if len(nearRobots) == 0:\n",
    "        return {\"robotId\": minDistRobot[\"robotId\"], \"distanceToGoal\": minDist, \"batteryLevel\": minDistRobot[\"batteryLevel\"]}\n",
    "    \n",
    "    # else, find the robot within 10 distance units of the load and with the largest battery.\n",
    "    highBatteryRobot = nearRobots[0]\n",
    "    highBattery = nearRobots[0][\"batteryLevel\"]\n",
    "    \n",
    "    for i, robot in enumerate(nearRobots):  \n",
    "        if robot[\"batteryLevel\"] > highBattery:\n",
    "            highBatteryRobot = robot\n",
    "            highBattery = robot[\"batteryLevel\"]\n",
    "            \n",
    "    finalDist = math.pow(math.pow(highBatteryRobot['y'] - y, 2) + math.pow(highBatteryRobot['x'] - x, 2), 0.5)\n",
    "    return {\"robotId\": highBatteryRobot[\"robotId\"], \"distanceToGoal\": finalDist, \"batteryLevel\": highBatteryRobot[\"batteryLevel\"]}\n",
    "\n"
   ]
  },
  {
   "cell_type": "code",
   "execution_count": 7,
   "metadata": {},
   "outputs": [
    {
     "name": "stdout",
     "output_type": "stream",
     "text": [
      "{'robotId': '56', 'distanceToGoal': 1.0, 'batteryLevel': 100}\n"
     ]
    }
   ],
   "source": [
    "# to run and test function\n",
    "transportRobot = getTransportRobot(\"0\", 38, 54)\n",
    "print(transportRobot)"
   ]
  },
  {
   "cell_type": "code",
   "execution_count": null,
   "metadata": {},
   "outputs": [],
   "source": []
  }
 ],
 "metadata": {
  "kernelspec": {
   "display_name": "Python 3",
   "language": "python",
   "name": "python3"
  },
  "language_info": {
   "codemirror_mode": {
    "name": "ipython",
    "version": 3
   },
   "file_extension": ".py",
   "mimetype": "text/x-python",
   "name": "python",
   "nbconvert_exporter": "python",
   "pygments_lexer": "ipython3",
   "version": "3.8.5"
  }
 },
 "nbformat": 4,
 "nbformat_minor": 4
}
